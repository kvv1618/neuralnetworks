{
 "cells": [
  {
   "cell_type": "markdown",
   "metadata": {},
   "source": [
    "### Preprocess Climate Data"
   ]
  },
  {
   "cell_type": "code",
   "execution_count": 8,
   "metadata": {},
   "outputs": [],
   "source": [
    "import pandas as pd\n",
    "\n",
    "file_path = 'data/climate_data.csv'\n",
    "\n",
    "climate_df = pd.read_csv(file_path)\n",
    "climate_df['date'] = pd.to_datetime(climate_df['date'])\n",
    "climate_df.index = climate_df['date']"
   ]
  },
  {
   "cell_type": "code",
   "execution_count": 2,
   "metadata": {},
   "outputs": [],
   "source": [
    "from sklearn.preprocessing import MinMaxScaler\n",
    "\n",
    "numeric_cols = climate_df.select_dtypes(include=['float64', 'int64']).columns.to_list()\n",
    "numeric_cols.remove('lat')\n",
    "numeric_cols.remove('lon')\n",
    "non_numeric_cols = climate_df.select_dtypes(exclude=['float64', 'int64']).columns.to_list() + ['lat', 'lon']\n",
    "\n",
    "climate_df[numeric_cols] = climate_df[numeric_cols].astype(float)\n",
    "climate_df[non_numeric_cols] = climate_df[non_numeric_cols]\n",
    "scaler = MinMaxScaler()\n",
    "scaled_df = pd.DataFrame(scaler.fit_transform(climate_df[numeric_cols]), columns=numeric_cols, index=climate_df.index)\n",
    "\n",
    "climate_data = pd.concat([scaled_df, climate_df[non_numeric_cols]], axis=1).reset_index(drop= True)"
   ]
  },
  {
   "cell_type": "markdown",
   "metadata": {},
   "source": [
    "### Preprocess Energy Data"
   ]
  },
  {
   "cell_type": "code",
   "execution_count": null,
   "metadata": {},
   "outputs": [],
   "source": [
    "file_path = 'data/long_data_.csv'\n",
    "\n",
    "energy_df = pd.read_csv(file_path)\n",
    "energy_df['Dates'] = pd.to_datetime(energy_df['Dates'], format='%d/%m/%Y %H:%M:%S')\n",
    "energy_df.index = energy_df['Dates']\n",
    "\n",
    "redundant_cols = [\"Regions\"]\n",
    "energy_df = energy_df.drop(columns=redundant_cols)"
   ]
  },
  {
   "cell_type": "code",
   "execution_count": 4,
   "metadata": {},
   "outputs": [],
   "source": [
    "numeric_cols = energy_df.select_dtypes(include=['float64', 'int64']).columns.to_list()\n",
    "numeric_cols.remove('latitude')\n",
    "numeric_cols.remove('longitude')\n",
    "non_numeric_cols = energy_df.select_dtypes(exclude=['float64', 'int64']).columns.to_list() + ['latitude', 'longitude']\n",
    "energy_df[numeric_cols] = energy_df[numeric_cols].astype(float)\n",
    "\n",
    "scaler = MinMaxScaler()\n",
    "scaled_df = pd.DataFrame(scaler.fit_transform(energy_df[numeric_cols]), columns=numeric_cols, index=energy_df.index)\n",
    "energy_data = pd.concat([scaled_df, energy_df[non_numeric_cols]], axis=1).reset_index(drop=True)"
   ]
  },
  {
   "cell_type": "markdown",
   "metadata": {},
   "source": [
    "### State-Lat-Lon Map"
   ]
  },
  {
   "cell_type": "code",
   "execution_count": 5,
   "metadata": {},
   "outputs": [],
   "source": [
    "import numpy as np \n",
    "\n",
    "lat_range = np.array([10, 14, 18, 22, 26, 30, 34])\n",
    "lon_range = np.array([72, 76, 80, 84, 88])\n",
    "\n",
    "energy_data[\"latitude\"] = energy_data[\"latitude\"].apply(lambda x: lat_range[np.argmin(np.abs(lat_range - x))])\n",
    "energy_data[\"longitude\"] = energy_data[\"longitude\"].apply(lambda x: lon_range[np.argmin(np.abs(lon_range - x))])"
   ]
  },
  {
   "cell_type": "markdown",
   "metadata": {},
   "source": [
    "## PreTrain on Climate Data"
   ]
  },
  {
   "cell_type": "markdown",
   "metadata": {},
   "source": [
    "### Time-Series Sequences"
   ]
  },
  {
   "cell_type": "code",
   "execution_count": 6,
   "metadata": {},
   "outputs": [],
   "source": [
    "import numpy as np\n",
    "\n",
    "def lagged_climate_input(data, seq_length=28):\n",
    "    X = []\n",
    "    for _, group in data.groupby([\"lat\", \"lon\"]):\n",
    "        group = group.sort_values(\"date\")\n",
    "        features = group.drop(columns=[\"date\", \"lat\", \"lon\"])\n",
    "        for row in range(len(features) - seq_length):\n",
    "            X.append(features.iloc[row:row+seq_length].values)\n",
    "    return np.array(X)\n",
    "\n",
    "climate_X = lagged_climate_input(climate_data, 14)"
   ]
  },
  {
   "cell_type": "markdown",
   "metadata": {},
   "source": [
    "### Model"
   ]
  },
  {
   "cell_type": "code",
   "execution_count": null,
   "metadata": {},
   "outputs": [],
   "source": [
    "import torch\n",
    "import torch.nn as nn\n",
    "\n",
    "class ClimatePreTrainer(nn.Module):\n",
    "    def __init__(self, input_size, hidden_size=64, latent_size=32, num_layers=1, dropout=0.3):\n",
    "        super(ClimatePreTrainer, self).__init__()\n",
    "        \n",
    "        self.encoder = nn.LSTM(input_size, hidden_size, num_layers=num_layers, \n",
    "                               batch_first=True, bidirectional=True, dropout=dropout)\n",
    "        \n",
    "        self.to_latent = nn.Linear(hidden_size * 2, latent_size)\n",
    "        self.from_latent = nn.Linear(latent_size, hidden_size * 2)\n",
    "        \n",
    "        self.decoder = nn.LSTM(hidden_size * 2, hidden_size, num_layers=num_layers, \n",
    "                               batch_first=True, bidirectional=True, dropout=dropout)\n",
    "        \n",
    "        self.output_layer = nn.Linear(hidden_size * 2, input_size)\n",
    "        self.dropout = nn.Dropout(dropout)\n",
    "        \n",
    "    def forward(self, x):\n",
    "        encoded_x, _ = self.encoder(x)\n",
    "        encoded_x = self.dropout(encoded_x)\n",
    "        \n",
    "        latent = self.to_latent(encoded_x)\n",
    "        expanded = self.from_latent(latent)\n",
    "        \n",
    "        decoded_x, _ = self.decoder(expanded)\n",
    "        decoded_x = self.dropout(decoded_x)\n",
    "        \n",
    "        reconstructed_x = self.output_layer(decoded_x)\n",
    "        return reconstructed_x, latent\n"
   ]
  },
  {
   "cell_type": "code",
   "execution_count": null,
   "metadata": {},
   "outputs": [
    {
     "name": "stdout",
     "output_type": "stream",
     "text": [
      "Model Summary:\n",
      "ClimatePreTrainer(\n",
      "  (encoder): LSTM(11, 64, batch_first=True, bidirectional=True)\n",
      "  (decoder): LSTM(128, 64, batch_first=True, bidirectional=True)\n",
      "  (fc): Linear(in_features=128, out_features=11, bias=True)\n",
      ")\n",
      "==========================================================================================\n",
      "Layer (type:depth-idx)                   Output Shape              Param #\n",
      "==========================================================================================\n",
      "ClimatePreTrainer                        [14, 11]                  --\n",
      "├─LSTM: 1-1                              [14, 128]                 39,424\n",
      "├─LSTM: 1-2                              [14, 128]                 99,328\n",
      "├─Linear: 1-3                            [14, 11]                  1,419\n",
      "==========================================================================================\n",
      "Total params: 140,171\n",
      "Trainable params: 140,171\n",
      "Non-trainable params: 0\n",
      "Total mult-adds (Units.MEGABYTES): 248.66\n",
      "==========================================================================================\n",
      "Input size (MB): 0.00\n",
      "Forward/backward pass size (MB): 0.03\n",
      "Params size (MB): 0.56\n",
      "Estimated Total Size (MB): 0.59\n",
      "==========================================================================================\n",
      "Epoch [1/1], Loss: 0.0000\n"
     ]
    }
   ],
   "source": [
    "from torch.utils.data import DataLoader, TensorDataset\n",
    "from sklearn.model_selection import train_test_split\n",
    "from torchinfo import summary\n",
    "\n",
    "num_epochs = 50\n",
    "batch_size = 32\n",
    "lr = 0.001\n",
    "\n",
    "patience = 5\n",
    "best_val_loss = float('inf')\n",
    "counter = 0\n",
    "\n",
    "climate_X_tensor = torch.tensor(climate_X, dtype=torch.float32)\n",
    "\n",
    "train_X, val_X = train_test_split(climate_X_tensor, test_size=0.2, random_state=42)\n",
    "\n",
    "train_dataset = TensorDataset(train_X)\n",
    "val_dataset = TensorDataset(val_X)\n",
    "\n",
    "train_loader = DataLoader(train_dataset, batch_size=batch_size, shuffle=True)\n",
    "val_loader = DataLoader(val_dataset, batch_size=batch_size, shuffle=False)\n",
    "\n",
    "device = torch.device(\"cuda\" if torch.cuda.is_available() else \"cpu\")\n",
    "climate_pretrained_model = ClimatePreTrainer(input_size=climate_X.shape[2], num_layers=2).to(device)\n",
    "\n",
    "criterion = nn.MSELoss()\n",
    "optimizer = torch.optim.Adam(climate_pretrained_model.parameters(), lr=lr, weight_decay=1e-5)\n",
    "\n",
    "for epoch in range(num_epochs):\n",
    "    climate_pretrained_model.train()\n",
    "    train_loss = 0\n",
    "    for batch in train_loader:\n",
    "        batch = batch[0].to(device)\n",
    "        optimizer.zero_grad()\n",
    "        \n",
    "        reconstructed_x, _ = climate_pretrained_model(batch)\n",
    "        loss = criterion(reconstructed_x, batch)\n",
    "        \n",
    "        loss.backward()\n",
    "        optimizer.step()\n",
    "        train_loss += loss.item()\n",
    "    avg_train_loss = train_loss / len(train_loader)\n",
    "    \n",
    "    climate_pretrained_model.eval()\n",
    "    val_loss = 0\n",
    "    with torch.no_grad():\n",
    "        for batch in val_loader:\n",
    "            batch = batch[0].to(device)\n",
    "            reconstructed_x, _ = climate_pretrained_model(batch)\n",
    "            loss = criterion(reconstructed_x, batch)\n",
    "            val_loss += loss.item()\n",
    "    avg_val_loss = val_loss / len(val_loader)\n",
    "    \n",
    "    print(f\"Epoch [{epoch+1}/{num_epochs}], Train Loss: {avg_train_loss:.6f}, Val Loss: {avg_val_loss:.6f}\")\n",
    "    \n",
    "    if avg_val_loss < best_val_loss:\n",
    "        best_val_loss = avg_val_loss\n",
    "        counter = 0\n",
    "        torch.save(climate_pretrained_model.state_dict(), 'climate_pretrained_model.pth')\n",
    "        print(f\"Validation loss improved. Saving model.\")\n",
    "    else:\n",
    "        counter += 1\n",
    "        print(f\"Validation loss did not improve. Patience Counter: {counter}/{patience}\")\n",
    "        if counter >= patience:\n",
    "            print(\"Early stopping triggered.\")\n",
    "            break\n"
   ]
  },
  {
   "cell_type": "markdown",
   "metadata": {},
   "source": [
    "#### Freeze Encoder Model"
   ]
  },
  {
   "cell_type": "code",
   "execution_count": null,
   "metadata": {},
   "outputs": [],
   "source": [
    "for param in climate_pretrained_model.parameters():\n",
    "    param.requires_grad = False"
   ]
  },
  {
   "cell_type": "markdown",
   "metadata": {},
   "source": [
    "## FineTune Downstream"
   ]
  },
  {
   "cell_type": "markdown",
   "metadata": {},
   "source": [
    "### Merge DataSources"
   ]
  },
  {
   "cell_type": "code",
   "execution_count": 76,
   "metadata": {},
   "outputs": [],
   "source": [
    "climate_data[\"month\"] = climate_data[\"date\"].dt.month\n",
    "climate_data[\"year\"] = climate_data[\"date\"].dt.year\n",
    "climate_data = climate_data.drop(columns=[\"date\"])\n",
    "climate_monthly = climate_data.groupby([\"lat\", \"lon\", \"year\", \"month\"]).mean().reset_index()\n"
   ]
  },
  {
   "cell_type": "code",
   "execution_count": 77,
   "metadata": {},
   "outputs": [],
   "source": [
    "energy_data[\"month\"] = energy_data[\"Dates\"].dt.month\n",
    "energy_data[\"year\"] = energy_data[\"Dates\"].dt.year\n",
    "energy_data = energy_data.drop(columns=[\"Dates\"])\n",
    "\n",
    "energy_data = energy_data.rename(columns={\"latitude\": \"lat\", \"longitude\": \"lon\"})\n",
    "\n",
    "merged_df = pd.merge(\n",
    "    energy_data,\n",
    "    climate_monthly,\n",
    "    how=\"left\",\n",
    "    left_on=[\"lat\", \"lon\", \"year\", \"month\"],\n",
    "    right_on=[\"lat\", \"lon\", \"year\", \"month\"],\n",
    "    suffixes=(\"\", \"_climate\"),\n",
    ")"
   ]
  },
  {
   "cell_type": "code",
   "execution_count": 78,
   "metadata": {},
   "outputs": [],
   "source": [
    "from sklearn.preprocessing import LabelEncoder\n",
    "categorical_cols = merged_df.select_dtypes(include=[\"object\"]).columns\n",
    "for col in categorical_cols:\n",
    "    le = LabelEncoder()\n",
    "    merged_df[col] = le.fit_transform(merged_df[col])\n"
   ]
  },
  {
   "cell_type": "code",
   "execution_count": 80,
   "metadata": {},
   "outputs": [],
   "source": [
    "def lagged_merged_data(data, seq_length=28):\n",
    "    X = []\n",
    "    y = []\n",
    "    for _, group in data.groupby([\"lat\", \"lon\"]):\n",
    "        group = group.sort_values(\"year\")\n",
    "        features = group.drop(columns=[\"year\", \"month\", \"lat\", \"lon\", \"States\", \"Usage\"])\n",
    "        target = group[\"Usage\"]\n",
    "        for row in range(len(features) - seq_length):\n",
    "            X.append(features.iloc[row:row+seq_length].values)\n",
    "            y.append(target.iloc[row+seq_length])\n",
    "    return np.array(X), np.array(y)\n",
    "\n",
    "merged_X, targt_y = lagged_merged_data(merged_df, 14)"
   ]
  },
  {
   "cell_type": "code",
   "execution_count": 81,
   "metadata": {},
   "outputs": [],
   "source": [
    "class EnergyPrediction(nn.Module):\n",
    "    def __init__(self, encoder, input_size, hidden_size=64):\n",
    "        super(EnergyPrediction, self).__init__()\n",
    "        self.encoder = encoder.encoder\n",
    "        self.regressor = nn.Sequential(\n",
    "            nn.Linear(hidden_size * 2, hidden_size),\n",
    "            nn.ReLU(),\n",
    "            nn.Linear(hidden_size, 1)\n",
    "        )\n",
    "\n",
    "    def forward(self, x):\n",
    "        encoded_x, _ = self.encoder(x)  # [batch, seq_len, hidden*2]\n",
    "        x = self.regressor(encoded_x[:, -1, :])  # Use last timestep\n",
    "        return x  # [batch, 1]\n"
   ]
  },
  {
   "cell_type": "code",
   "execution_count": 82,
   "metadata": {},
   "outputs": [
    {
     "name": "stdout",
     "output_type": "stream",
     "text": [
      "Model Summary:\n",
      "EnergyPrediction(\n",
      "  (encoder): LSTM(11, 64, batch_first=True, bidirectional=True)\n",
      "  (regressor): Sequential(\n",
      "    (0): Linear(in_features=128, out_features=64, bias=True)\n",
      "    (1): ReLU()\n",
      "    (2): Linear(in_features=64, out_features=1, bias=True)\n",
      "  )\n",
      ")\n",
      "==========================================================================================\n",
      "Layer (type:depth-idx)                   Output Shape              Param #\n",
      "==========================================================================================\n",
      "EnergyPrediction                         [1, 1]                    --\n",
      "├─LSTM: 1-1                              [1, 14, 128]              39,424\n",
      "├─Sequential: 1-2                        [1, 1]                    --\n",
      "│    └─Linear: 2-1                       [1, 64]                   8,256\n",
      "│    └─ReLU: 2-2                         [1, 64]                   --\n",
      "│    └─Linear: 2-3                       [1, 1]                    65\n",
      "==========================================================================================\n",
      "Total params: 47,745\n",
      "Trainable params: 47,745\n",
      "Non-trainable params: 0\n",
      "Total mult-adds (Units.MEGABYTES): 0.56\n",
      "==========================================================================================\n",
      "Input size (MB): 0.00\n",
      "Forward/backward pass size (MB): 0.01\n",
      "Params size (MB): 0.19\n",
      "Estimated Total Size (MB): 0.21\n",
      "==========================================================================================\n"
     ]
    },
    {
     "name": "stderr",
     "output_type": "stream",
     "text": [
      "/home/kvv/miniconda3/envs/nn/lib/python3.12/site-packages/torch/nn/modules/loss.py:610: UserWarning: Using a target size (torch.Size([32])) that is different to the input size (torch.Size([32, 1])). This will likely lead to incorrect results due to broadcasting. Please ensure they have the same size.\n",
      "  return F.mse_loss(input, target, reduction=self.reduction)\n"
     ]
    },
    {
     "name": "stdout",
     "output_type": "stream",
     "text": [
      "Epoch [1/1], Loss: nan\n"
     ]
    },
    {
     "name": "stderr",
     "output_type": "stream",
     "text": [
      "/home/kvv/miniconda3/envs/nn/lib/python3.12/site-packages/torch/nn/modules/loss.py:610: UserWarning: Using a target size (torch.Size([27])) that is different to the input size (torch.Size([27, 1])). This will likely lead to incorrect results due to broadcasting. Please ensure they have the same size.\n",
      "  return F.mse_loss(input, target, reduction=self.reduction)\n"
     ]
    }
   ],
   "source": [
    "num_epochs = 1\n",
    "batch_size = 32\n",
    "lr = 0.001\n",
    "\n",
    "train_dataset = TensorDataset(torch.tensor(merged_X, dtype=torch.float32), torch.tensor(targt_y, dtype=torch.float32))\n",
    "train_loader = DataLoader(train_dataset, batch_size=batch_size, shuffle=True)\n",
    "\n",
    "energy_model = EnergyPrediction(climate_pretrained_model, input_size=merged_X.shape[2]).to(device)\n",
    "print(\"Model Summary:\")\n",
    "print(energy_model)\n",
    "print(summary(energy_model, input_size=(1, 14, merged_X.shape[2])))\n",
    "criterion = nn.MSELoss()\n",
    "optimizer = torch.optim.Adam(energy_model.parameters(), lr=lr)\n",
    "energy_model.train()\n",
    "for epoch in range(num_epochs):\n",
    "    for batch in train_loader:\n",
    "        inputs, targets = batch[0].to(device), batch[1].to(device)\n",
    "        optimizer.zero_grad()\n",
    "        outputs = energy_model(inputs)\n",
    "        loss = criterion(outputs, targets)\n",
    "        loss.backward()\n",
    "        optimizer.step()\n",
    "    print(f\"Epoch [{epoch+1}/{num_epochs}], Loss: {loss.item():.4f}\")"
   ]
  },
  {
   "cell_type": "code",
   "execution_count": 83,
   "metadata": {},
   "outputs": [
    {
     "name": "stdout",
     "output_type": "stream",
     "text": [
      "Epoch [1/1], Loss: nan\n"
     ]
    }
   ],
   "source": [
    "for param in energy_model.encoder.parameters():\n",
    "    param.requires_grad = True\n",
    "\n",
    "for epoch in range(num_epochs):\n",
    "    for batch in train_loader:\n",
    "        inputs, targets = batch[0].to(device), batch[1].to(device)\n",
    "        optimizer.zero_grad()\n",
    "        outputs = energy_model(inputs)\n",
    "        loss = criterion(outputs, targets)\n",
    "        loss.backward()\n",
    "        optimizer.step()\n",
    "    print(f\"Epoch [{epoch+1}/{num_epochs}], Loss: {loss.item():.4f}\")"
   ]
  },
  {
   "cell_type": "code",
   "execution_count": null,
   "metadata": {},
   "outputs": [],
   "source": []
  }
 ],
 "metadata": {
  "kernelspec": {
   "display_name": "nn",
   "language": "python",
   "name": "python3"
  },
  "language_info": {
   "codemirror_mode": {
    "name": "ipython",
    "version": 3
   },
   "file_extension": ".py",
   "mimetype": "text/x-python",
   "name": "python",
   "nbconvert_exporter": "python",
   "pygments_lexer": "ipython3",
   "version": "3.12.9"
  }
 },
 "nbformat": 4,
 "nbformat_minor": 2
}
