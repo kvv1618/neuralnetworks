{
 "cells": [
  {
   "cell_type": "markdown",
   "metadata": {},
   "source": [
    "### Preprocess Climate Data"
   ]
  },
  {
   "cell_type": "code",
   "execution_count": 33,
   "metadata": {},
   "outputs": [],
   "source": [
    "import pandas as pd\n",
    "\n",
    "climate_df = pd.read_csv('data/climate_data.csv')\n",
    "climate_df['date'] = pd.to_datetime(climate_df['date'])\n",
    "climate_df.index = climate_df['date']\n",
    "\n",
    "hypothetical_redundant_cols = [\"sunrise\", \"sunset\"]\n",
    "climate_df = climate_df.drop(columns=hypothetical_redundant_cols)"
   ]
  },
  {
   "cell_type": "code",
   "execution_count": 34,
   "metadata": {},
   "outputs": [],
   "source": [
    "from sklearn.preprocessing import MinMaxScaler\n",
    "\n",
    "numeric_cols = climate_df.select_dtypes(include=['float64', 'int64']).columns.to_list()\n",
    "numeric_cols.remove('lat')\n",
    "numeric_cols.remove('lon')\n",
    "non_numeric_cols = climate_df.select_dtypes(exclude=['float64', 'int64']).columns.to_list() + ['lat', 'lon']\n",
    "\n",
    "climate_df[numeric_cols] = climate_df[numeric_cols].astype(float)\n",
    "climate_df[non_numeric_cols] = climate_df[non_numeric_cols]\n",
    "scaler = MinMaxScaler()\n",
    "scaled_df = pd.DataFrame(scaler.fit_transform(climate_df[numeric_cols]), columns=numeric_cols, index=climate_df.index)\n",
    "\n",
    "climate_data = pd.concat([scaled_df, climate_df[non_numeric_cols]], axis=1).reset_index(drop= True)"
   ]
  },
  {
   "cell_type": "markdown",
   "metadata": {},
   "source": [
    "### Preprocess Energy Data"
   ]
  },
  {
   "cell_type": "code",
   "execution_count": 37,
   "metadata": {},
   "outputs": [],
   "source": [
    "energy_df = pd.read_csv('data/energy_consumption_data.csv')\n",
    "energy_df['Date'] = pd.to_datetime(energy_df['Date'])\n",
    "energy_df.index = energy_df['Date']\n",
    "\n",
    "redundant_cols = [\"Category\", \"Variable\", \"Unit\", \"Value\"]\n",
    "energy_df = energy_df.drop(columns=redundant_cols)"
   ]
  },
  {
   "cell_type": "code",
   "execution_count": 38,
   "metadata": {},
   "outputs": [],
   "source": [
    "numeric_cols = energy_df.select_dtypes(include=['float64', 'int64']).columns\n",
    "non_numeric_cols = energy_df.select_dtypes(exclude=['float64', 'int64']).columns\n",
    "energy_df[numeric_cols] = energy_df[numeric_cols].astype(float)\n",
    "\n",
    "scaler = MinMaxScaler()\n",
    "scaled_df = pd.DataFrame(scaler.fit_transform(energy_df[numeric_cols]), columns=numeric_cols, index=energy_df.index)\n",
    "energy_data = pd.concat([scaled_df, energy_df[non_numeric_cols]], axis=1).reset_index(drop=True)"
   ]
  },
  {
   "cell_type": "markdown",
   "metadata": {},
   "source": [
    "### State-Lat-Lon Map"
   ]
  },
  {
   "cell_type": "code",
   "execution_count": 46,
   "metadata": {},
   "outputs": [],
   "source": [
    "state_to_grid = {\n",
    "    'Alabama': (30, -90),\n",
    "    'Alaska': (50, -120),\n",
    "    'Arizona': (30, -110),\n",
    "    'Arkansas': (30, -90),\n",
    "    'California': (30, -120),\n",
    "    'Colorado': (40, -110),\n",
    "    'Connecticut': (40, -70),\n",
    "    'Delaware': (40, -80),\n",
    "    'Florida': (30, -80),\n",
    "    'Georgia': (30, -80),\n",
    "    'Hawaii': (30, -120),\n",
    "    'Idaho': (40, -120),\n",
    "    'Illinois': (40, -90),\n",
    "    'Indiana': (40, -90),\n",
    "    'Iowa': (40, -100),\n",
    "    'Kansas': (40, -100),\n",
    "    'Kentucky': (40, -90),\n",
    "    'Louisiana': (30, -90),\n",
    "    'Maine': (40, -70),\n",
    "    'Maryland': (40, -80),\n",
    "    'Massachusetts': (40, -70),\n",
    "    'Michigan': (40, -80),\n",
    "    'Minnesota': (50, -100),\n",
    "    'Mississippi': (30, -90),\n",
    "    'Missouri': (40, -90),\n",
    "    'Montana': (50, -110),\n",
    "    'Nebraska': (40, -100),\n",
    "    'Nevada': (40, -120),\n",
    "    'New Hampshire': (40, -70),\n",
    "    'New Jersey': (40, -80),\n",
    "    'New Mexico': (30, -110),\n",
    "    'New York': (40, -80),\n",
    "    'North Carolina': (40, -80),\n",
    "    'North Dakota': (50, -100),\n",
    "    'Ohio': (40, -80),\n",
    "    'Oklahoma': (30, -100),\n",
    "    'Oregon': (40, -120),\n",
    "    'Pennsylvania': (40, -80),\n",
    "    'Rhode Island': (40, -70),\n",
    "    'South Carolina': (30, -80),\n",
    "    'South Dakota': (50, -100),\n",
    "    'Tennessee': (30, -90),\n",
    "    'Texas': (30, -100),\n",
    "    'Utah': (40, -110),\n",
    "    'Vermont': (40, -70),\n",
    "    'Virginia': (40, -80),\n",
    "    'Washington': (50, -120),\n",
    "    'West Virginia': (40, -80),\n",
    "    'Wisconsin': (40, -90),\n",
    "    'Wyoming': (40, -110),\n",
    "    'Puerto Rico': (18, -70),\n",
    "    'Washington, D.C.': (38, -80),\n",
    "}"
   ]
  },
  {
   "cell_type": "code",
   "execution_count": null,
   "metadata": {},
   "outputs": [],
   "source": [
    "energy_data = energy_data[energy_data['State'] != 'US Total']\n",
    "energy_data['lat'] = energy_data['State'].map(lambda x: state_to_grid[x][0])\n",
    "energy_data['lon'] = energy_data['State'].map(lambda x: state_to_grid[x][1])\n",
    "\n",
    "energy_data['Date'] = pd.to_datetime(energy_data['Date'])\n",
    "climate_data['date'] = pd.to_datetime(climate_data['date'])"
   ]
  },
  {
   "cell_type": "code",
   "execution_count": 57,
   "metadata": {},
   "outputs": [
    {
     "data": {
      "text/html": [
       "<div>\n",
       "<style scoped>\n",
       "    .dataframe tbody tr th:only-of-type {\n",
       "        vertical-align: middle;\n",
       "    }\n",
       "\n",
       "    .dataframe tbody tr th {\n",
       "        vertical-align: top;\n",
       "    }\n",
       "\n",
       "    .dataframe thead th {\n",
       "        text-align: right;\n",
       "    }\n",
       "</style>\n",
       "<table border=\"1\" class=\"dataframe\">\n",
       "  <thead>\n",
       "    <tr style=\"text-align: right;\">\n",
       "      <th></th>\n",
       "      <th>Consumption</th>\n",
       "      <th>State</th>\n",
       "      <th>Date</th>\n",
       "      <th>lat</th>\n",
       "      <th>lon</th>\n",
       "    </tr>\n",
       "  </thead>\n",
       "  <tbody>\n",
       "    <tr>\n",
       "      <th>0</th>\n",
       "      <td>0.026894</td>\n",
       "      <td>Alabama</td>\n",
       "      <td>2020-01-01</td>\n",
       "      <td>30</td>\n",
       "      <td>-90</td>\n",
       "    </tr>\n",
       "    <tr>\n",
       "      <th>1</th>\n",
       "      <td>0.024904</td>\n",
       "      <td>Alabama</td>\n",
       "      <td>2020-02-01</td>\n",
       "      <td>30</td>\n",
       "      <td>-90</td>\n",
       "    </tr>\n",
       "    <tr>\n",
       "      <th>2</th>\n",
       "      <td>0.024720</td>\n",
       "      <td>Alabama</td>\n",
       "      <td>2020-03-01</td>\n",
       "      <td>30</td>\n",
       "      <td>-90</td>\n",
       "    </tr>\n",
       "    <tr>\n",
       "      <th>3</th>\n",
       "      <td>0.021396</td>\n",
       "      <td>Alabama</td>\n",
       "      <td>2020-04-01</td>\n",
       "      <td>30</td>\n",
       "      <td>-90</td>\n",
       "    </tr>\n",
       "    <tr>\n",
       "      <th>4</th>\n",
       "      <td>0.025344</td>\n",
       "      <td>Alabama</td>\n",
       "      <td>2020-05-01</td>\n",
       "      <td>30</td>\n",
       "      <td>-90</td>\n",
       "    </tr>\n",
       "    <tr>\n",
       "      <th>...</th>\n",
       "      <td>...</td>\n",
       "      <td>...</td>\n",
       "      <td>...</td>\n",
       "      <td>...</td>\n",
       "      <td>...</td>\n",
       "    </tr>\n",
       "    <tr>\n",
       "      <th>1903</th>\n",
       "      <td>0.010041</td>\n",
       "      <td>Wyoming</td>\n",
       "      <td>2022-08-01</td>\n",
       "      <td>40</td>\n",
       "      <td>-110</td>\n",
       "    </tr>\n",
       "    <tr>\n",
       "      <th>1904</th>\n",
       "      <td>0.009388</td>\n",
       "      <td>Wyoming</td>\n",
       "      <td>2022-09-01</td>\n",
       "      <td>40</td>\n",
       "      <td>-110</td>\n",
       "    </tr>\n",
       "    <tr>\n",
       "      <th>1905</th>\n",
       "      <td>0.009670</td>\n",
       "      <td>Wyoming</td>\n",
       "      <td>2022-10-01</td>\n",
       "      <td>40</td>\n",
       "      <td>-110</td>\n",
       "    </tr>\n",
       "    <tr>\n",
       "      <th>1906</th>\n",
       "      <td>0.009286</td>\n",
       "      <td>Wyoming</td>\n",
       "      <td>2022-11-01</td>\n",
       "      <td>40</td>\n",
       "      <td>-110</td>\n",
       "    </tr>\n",
       "    <tr>\n",
       "      <th>1907</th>\n",
       "      <td>0.009693</td>\n",
       "      <td>Wyoming</td>\n",
       "      <td>2022-12-01</td>\n",
       "      <td>40</td>\n",
       "      <td>-110</td>\n",
       "    </tr>\n",
       "  </tbody>\n",
       "</table>\n",
       "<p>1872 rows × 5 columns</p>\n",
       "</div>"
      ],
      "text/plain": [
       "      Consumption    State       Date  lat  lon\n",
       "0        0.026894  Alabama 2020-01-01   30  -90\n",
       "1        0.024904  Alabama 2020-02-01   30  -90\n",
       "2        0.024720  Alabama 2020-03-01   30  -90\n",
       "3        0.021396  Alabama 2020-04-01   30  -90\n",
       "4        0.025344  Alabama 2020-05-01   30  -90\n",
       "...           ...      ...        ...  ...  ...\n",
       "1903     0.010041  Wyoming 2022-08-01   40 -110\n",
       "1904     0.009388  Wyoming 2022-09-01   40 -110\n",
       "1905     0.009670  Wyoming 2022-10-01   40 -110\n",
       "1906     0.009286  Wyoming 2022-11-01   40 -110\n",
       "1907     0.009693  Wyoming 2022-12-01   40 -110\n",
       "\n",
       "[1872 rows x 5 columns]"
      ]
     },
     "execution_count": 57,
     "metadata": {},
     "output_type": "execute_result"
    }
   ],
   "source": [
    "energy_data"
   ]
  },
  {
   "cell_type": "markdown",
   "metadata": {},
   "source": [
    "## PreTrain on Climate Data"
   ]
  },
  {
   "cell_type": "markdown",
   "metadata": {},
   "source": [
    "### Time-Series Sequences"
   ]
  },
  {
   "cell_type": "code",
   "execution_count": null,
   "metadata": {},
   "outputs": [],
   "source": [
    "import numpy as np\n",
    "\n",
    "def lagged_climate_input(data, seq_length=28):\n",
    "    X = []\n",
    "    for _, group in data.groupby([\"lat\", \"lon\"]):\n",
    "        group = group.sort_values(\"date\")\n",
    "        features = group.drop(columns=[\"date\", \"lat\", \"lon\"])\n",
    "        for row in range(len(features) - seq_length):\n",
    "            X.append(features.iloc[row:row+seq_length].values)\n",
    "    return np.array(X)\n",
    "\n",
    "climate_X = lagged_climate_input(climate_data, 14)"
   ]
  },
  {
   "cell_type": "markdown",
   "metadata": {},
   "source": [
    "### Model"
   ]
  },
  {
   "cell_type": "code",
   "execution_count": null,
   "metadata": {},
   "outputs": [],
   "source": [
    "import torch\n",
    "import torch.nn as nn\n",
    "\n",
    "class ClimatePreTrainer(nn.Module):\n",
    "    def __init__(self, input_size, hidden_size=64, num_layers=1):\n",
    "        super(ClimatePreTrainer, self).__init__()\n",
    "        self.encoder = nn.LSTM(input_size, hidden_size, num_layers=num_layers, batch_first=True, bidirectional=True)\n",
    "        self.decoder = nn.LSTM(hidden_size * 2, hidden_size, num_layers=num_layers, batch_first=True, bidirectional=True)\n",
    "        self.fc = nn.Linear(hidden_size * 2, input_size)\n",
    "        \n",
    "    def forward(self, x):\n",
    "        encoded_x, _ = self.encoder(x)\n",
    "        decoded_x, _ = self.decoder(encoded_x)\n",
    "        reconstructed_x = self.fc(decoded_x)\n",
    "        return reconstructed_x\n",
    "                "
   ]
  },
  {
   "cell_type": "code",
   "execution_count": null,
   "metadata": {},
   "outputs": [],
   "source": [
    "import pickle\n",
    "from torch.utils.data import DataLoader, TensorDataset\n",
    "\n",
    "num_epochs = 1\n",
    "batch_size = 32\n",
    "lr = 0.001\n",
    "\n",
    "climate_X_tensor = torch.tensor(climate_X, dtype=torch.float32)\n",
    "train_dataset = TensorDataset(climate_X_tensor)\n",
    "train_loader = DataLoader(train_dataset, batch_size=batch_size, shuffle=True)\n",
    "\n",
    "device = torch.device(\"cuda\" if torch.cuda.is_available() else \"cpu\")\n",
    "climate_pretrained_model = ClimatePreTrainer(input_size=climate_X.shape[2]).to(device)\n",
    "criterion = nn.MSELoss()\n",
    "optimizer = torch.optim.Adam(climate_pretrained_model.parameters(), lr=lr)\n",
    "climate_pretrained_model.train()\n",
    "for epoch in range(num_epochs):\n",
    "    for batch in train_loader:\n",
    "        batch = batch[0].to(device)\n",
    "        optimizer.zero_grad()\n",
    "        outputs = climate_pretrained_model(batch)\n",
    "        loss = criterion(outputs, batch)\n",
    "        loss.backward()\n",
    "        optimizer.step()\n",
    "    print(f\"Epoch [{epoch+1}/{num_epochs}], Loss: {loss.item():.4f}\")\n",
    "\n",
    "with open('climate_pretrained_climate_pretrained_model.pkl', 'wb') as f:\n",
    "    pickle.dump(climate_pretrained_model, f)\n"
   ]
  },
  {
   "cell_type": "markdown",
   "metadata": {},
   "source": [
    "## FineTune Downstream"
   ]
  },
  {
   "cell_type": "markdown",
   "metadata": {},
   "source": [
    "### Merge DataSources"
   ]
  },
  {
   "cell_type": "code",
   "execution_count": null,
   "metadata": {},
   "outputs": [],
   "source": [
    "climate_df[\"month\"] = climate_df[\"date\"].dt.month\n",
    "climate_df = climate_df.drop(columns=[\"date\"])\n",
    "climate_monthly = climate_df.groupby([\"lat\", \"lon\", \"month\"]).mean().reset_index()\n",
    "climate_monthly[\"month\"] = climate_monthly[\"month\"].dt.to_timestamp()\n"
   ]
  },
  {
   "cell_type": "code",
   "execution_count": null,
   "metadata": {},
   "outputs": [],
   "source": [
    "energy_df[\"month\"] = energy_df[\"Date\"].dt.month\n",
    "energy_df = energy_df.drop(columns=[\"Date\"])\n",
    "\n",
    "merged_df = pd.merge(\n",
    "    energy_df,\n",
    "    climate_monthly,\n",
    "    how=\"left\",\n",
    "    left_on=[\"lat\", \"lon\", \"month\"],\n",
    "    right_on=[\"lat\", \"lon\", \"month\"],\n",
    "    suffixes=(\"\", \"_climate\"),\n",
    ")\n",
    "merged_df = merged_df.drop(columns=[\"month\"])"
   ]
  },
  {
   "cell_type": "code",
   "execution_count": null,
   "metadata": {},
   "outputs": [],
   "source": [
    "def lagged_merged_data(data, seq_length=28):\n",
    "    X = []\n",
    "    y = []\n",
    "    for _, group in data.groupby([\"lat\", \"lon\"]):\n",
    "        group = group.drop(columns=[\"lat\", \"lon\"])\n",
    "        features = group.sort_values(\"month\")\n",
    "        for row in range(len(features) - seq_length):\n",
    "            X.append(features.iloc[row:row+seq_length].values)\n",
    "            y.append(features.iloc[row+seq_length].values)\n",
    "    return np.array(X), np.array(y)\n",
    "\n",
    "merged_X, targt_y = lagged_merged_data(merged_df, 14)"
   ]
  },
  {
   "cell_type": "code",
   "execution_count": null,
   "metadata": {},
   "outputs": [],
   "source": [
    "class EnergyPrediction(nn.Module):\n",
    "    def __init__(self, encoder, input_size, hidden_size=64, num_layers=1):\n",
    "        super(EnergyPrediction, self).__init__()\n",
    "        self.encoder = encoder.encoder\n",
    "        self.regressor = nn.Sequential(\n",
    "            nn.Linear(hidden_size * 2, hidden_size),\n",
    "            nn.ReLU(),\n",
    "            nn.Linear(hidden_size, num_layers)\n",
    "        )\n",
    "\n",
    "    def forward(self, x):\n",
    "        encoded_x, _ = self.encoder(x)\n",
    "        x = self.regressor(encoded_x[:, -1, :])\n",
    "        return x\n"
   ]
  },
  {
   "cell_type": "code",
   "execution_count": null,
   "metadata": {},
   "outputs": [],
   "source": [
    "num_epochs = 1\n",
    "batch_size = 32\n",
    "lr = 0.001\n",
    "\n",
    "train_dataset = TensorDataset(torch.tensor(merged_X, dtype=torch.float32), torch.tensor(targt_y, dtype=torch.float32))\n",
    "train_loader = DataLoader(train_dataset, batch_size=batch_size, shuffle=True)\n",
    "\n",
    "energy_model = EnergyPrediction(climate_pretrained_model, input_size=merged_X.shape[2]).to(device)\n",
    "criterion = nn.MSELoss()\n",
    "optimizer = torch.optim.Adam(energy_model.parameters(), lr=lr)\n",
    "energy_model.train()\n",
    "for epoch in range(num_epochs):\n",
    "    for batch in train_loader:\n",
    "        inputs, targets = batch[0].to(device), batch[1].to(device)\n",
    "        optimizer.zero_grad()\n",
    "        outputs = energy_model(inputs)\n",
    "        loss = criterion(outputs, targets)\n",
    "        loss.backward()\n",
    "        optimizer.step()\n",
    "    print(f\"Epoch [{epoch+1}/{num_epochs}], Loss: {loss.item():.4f}\")"
   ]
  },
  {
   "cell_type": "code",
   "execution_count": null,
   "metadata": {},
   "outputs": [],
   "source": [
    "for param in energy_model.encoder.parameters():\n",
    "    param.requires_grad = True\n",
    "\n",
    "for epoch in range(num_epochs):\n",
    "    for batch in train_loader:\n",
    "        inputs, targets = batch[0].to(device), batch[1].to(device)\n",
    "        optimizer.zero_grad()\n",
    "        outputs = energy_model(inputs)\n",
    "        loss = criterion(outputs, targets)\n",
    "        loss.backward()\n",
    "        optimizer.step()\n",
    "    print(f\"Epoch [{epoch+1}/{num_epochs}], Loss: {loss.item():.4f}\")"
   ]
  },
  {
   "cell_type": "code",
   "execution_count": null,
   "metadata": {},
   "outputs": [],
   "source": []
  }
 ],
 "metadata": {
  "kernelspec": {
   "display_name": "nn",
   "language": "python",
   "name": "python3"
  },
  "language_info": {
   "codemirror_mode": {
    "name": "ipython",
    "version": 3
   },
   "file_extension": ".py",
   "mimetype": "text/x-python",
   "name": "python",
   "nbconvert_exporter": "python",
   "pygments_lexer": "ipython3",
   "version": "3.12.9"
  }
 },
 "nbformat": 4,
 "nbformat_minor": 2
}
