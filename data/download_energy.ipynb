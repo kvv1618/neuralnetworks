{
 "cells": [
  {
   "cell_type": "markdown",
   "metadata": {},
   "source": [
    "## Energy with msn codes"
   ]
  },
  {
   "cell_type": "code",
   "execution_count": null,
   "metadata": {},
   "outputs": [],
   "source": [
    "import requests\n",
    "import pandas as pd\n",
    "import os\n",
    "import numpy as np\n",
    "from sklearn.preprocessing import StandardScaler\n",
    "from dotenv import load_dotenv\n",
    "\n",
    "load_dotenv()\n",
    "\n",
    "BASE_URL = \"https://api.eia.gov/v2/total-energy/data/\"\n",
    "params = {\n",
    "    \"api_key\": os.getenv(\"EIA_API_KEY\"),\n",
    "    \"frequency\": \"monthly\",\n",
    "    \"data[0]\": \"value\",\n",
    "    \"start\": \"2021-01\",\n",
    "    \"end\": \"2024-01\",\n",
    "    \"sort[0][column]\": \"period\",\n",
    "    \"sort[0][direction]\": \"desc\",\n",
    "    \"offset\": 0,\n",
    "    \"length\": 5000\n",
    "}\n",
    "\n",
    "def download_energy_data():\n",
    "    columns = [\"period\", \"msn\", \"value\"]\n",
    "    total_df = pd.DataFrame(columns=columns)\n",
    "    years = set()\n",
    "    while(len(years) < 3*12):\n",
    "        response = requests.get(BASE_URL, params=params)\n",
    "        if response.status_code != 200:\n",
    "            raise Exception(f\"Failed to download data: {response.status_code}\")\n",
    "\n",
    "        data = response.json()\n",
    "        df = pd.DataFrame(data[\"response\"][\"data\"])\n",
    "        if df.empty:\n",
    "            break\n",
    "        df = df[columns]\n",
    "        df['value'] = pd.to_numeric(df['value'], errors='coerce')\n",
    "        df[\"period\"] = pd.to_datetime(df[\"period\"], format=\"%Y-%m\")\n",
    "        if not df.empty:\n",
    "            total_df = pd.concat([total_df, df])\n",
    "        unique_periods = df[\"period\"].unique()\n",
    "        for period in unique_periods:\n",
    "            years.add(period.year)\n",
    "        params[\"offset\"] += params[\"length\"]\n",
    "\n",
    "    return total_df\n",
    "\n",
    "df = download_energy_data()\n",
    "df = df.drop_duplicates(subset=[\"period\", \"msn\"], keep=\"last\")\n",
    "df = df.pivot(index=\"period\", columns=\"msn\", values=\"value\")\n",
    "df.index = pd.to_datetime(df.index, errors=\"coerce\")\n",
    "df = df.replace([np.inf, -np.inf], np.nan)\n",
    "df = df.ffill().bfill().dropna(axis=1, how=\"all\")\n",
    "df = df.sort_index().interpolate(method=\"time\", limit_direction=\"both\").fillna(df.mean())\n",
    "df.to_csv(\"energy_data.csv\", index=True)\n",
    "\n",
    "\n",
    "scaler = StandardScaler()\n",
    "scaled_values = scaler.fit_transform(df.values)\n",
    "scaled_df = pd.DataFrame(scaled_values, columns=df.columns, index=df.index)\n",
    "\n",
    "scaled_df.to_csv(\"scaled_energy_data.csv\", index=True)\n"
   ]
  },
  {
   "cell_type": "markdown",
   "metadata": {},
   "source": [
    "## Generated Energy"
   ]
  },
  {
   "cell_type": "code",
   "execution_count": 25,
   "metadata": {},
   "outputs": [],
   "source": [
    "import pandas as pd\n",
    "\n",
    "df = pd.read_csv(\"us_monthly_full_release_long_format.csv\")\n",
    "df = df.drop(columns=[\"Country\", \"Country code\", \"State code\", \"State type\", \"Subcategory\", \"YoY absolute change\", \"YoY % change\"])\n",
    "df = df[df[\"Variable\"]==\"Total Generation\"]\n",
    "df[\"Date\"] = pd.to_datetime(df[\"Date\"])\n",
    "df = df[(df[\"Date\"] >= \"2020-01-01\") & (df[\"Date\"] <= \"2022-12-01\")].reset_index(drop=True)\n"
   ]
  },
  {
   "cell_type": "code",
   "execution_count": 26,
   "metadata": {},
   "outputs": [],
   "source": [
    "loss_factor = 0.05\n",
    "df[\"Consumption\"] = df[\"Value\"] * (1 - loss_factor)\n",
    "df = df.reset_index(drop=True)\n",
    "df.to_csv(\"energy_consumption_data.csv\", index=False)"
   ]
  },
  {
   "cell_type": "code",
   "execution_count": 29,
   "metadata": {},
   "outputs": [
    {
     "data": {
      "text/plain": [
       "(1872, 7)"
      ]
     },
     "execution_count": 29,
     "metadata": {},
     "output_type": "execute_result"
    }
   ],
   "source": [
    "df[df[\"State\"]!=\"US Total\"].shape"
   ]
  },
  {
   "cell_type": "code",
   "execution_count": null,
   "metadata": {},
   "outputs": [],
   "source": []
  }
 ],
 "metadata": {
  "kernelspec": {
   "display_name": "nn",
   "language": "python",
   "name": "python3"
  },
  "language_info": {
   "codemirror_mode": {
    "name": "ipython",
    "version": 3
   },
   "file_extension": ".py",
   "mimetype": "text/x-python",
   "name": "python",
   "nbconvert_exporter": "python",
   "pygments_lexer": "ipython3",
   "version": "3.12.9"
  }
 },
 "nbformat": 4,
 "nbformat_minor": 2
}
